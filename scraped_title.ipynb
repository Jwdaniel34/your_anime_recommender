{
 "cells": [
  {
   "cell_type": "code",
   "execution_count": 1,
   "metadata": {},
   "outputs": [],
   "source": [
    "import requests\n",
    "from bs4 import BeautifulSoup\n",
    "from tqdm import tqdm\n",
    "import pickle\n",
    "import pandas as pd\n",
    "import re\n",
    "import time"
   ]
  },
  {
   "cell_type": "code",
   "execution_count": 2,
   "metadata": {},
   "outputs": [],
   "source": [
    "# loop with this url to pull all users\n",
    "user_list_url = 'https://www.anime-planet.com/anime/death-note/watched?page=1'\n",
    "\n",
    "# use this url to loop through and get all anime titles\n",
    "animes_url = 'https://www.anime-planet.com/anime/all?page=1'"
   ]
  },
  {
   "cell_type": "code",
   "execution_count": 3,
   "metadata": {},
   "outputs": [],
   "source": [
    "# Function to parse through the url\n",
    "def getAndParseUrl(url):\n",
    "    results = requests.get(url)\n",
    "    time.sleep(1)\n",
    "    soup = BeautifulSoup(results.text, 'html.parser')\n",
    "    return soup"
   ]
  },
  {
   "cell_type": "markdown",
   "metadata": {},
   "source": [
    "### Reload users list"
   ]
  },
  {
   "cell_type": "code",
   "execution_count": 4,
   "metadata": {},
   "outputs": [],
   "source": [
    "with open('users.pickle', 'rb') as infile:\n",
    "    users=pickle.load(infile)\n",
    "\n",
    "infile.close()"
   ]
  },
  {
   "cell_type": "markdown",
   "metadata": {},
   "source": [
    "### Get All anime titles"
   ]
  },
  {
   "cell_type": "code",
   "execution_count": 6,
   "metadata": {},
   "outputs": [],
   "source": [
    "# Hard coded function to get all anime titles and their urls\n",
    "def get_animes():\n",
    "    titles = []\n",
    "    links = []\n",
    "    for i in tqdm(range(1,388)):\n",
    "        animes = getAndParseUrl(f'https://www.anime-planet.com/anime/all?page={i}')\n",
    "        anime_links = animes.findAll('a', attrs={'class' : 'tooltip'})\n",
    "        for j in range(2,len(anime_links)):\n",
    "            links.append('https://www.anime-planet.com'+anime_links[j]['href'])\n",
    "        titles.extend([title.text for title in animes.select('h2')])\n",
    "    return dict(zip(titles,links))"
   ]
  },
  {
   "cell_type": "markdown",
   "metadata": {},
   "source": [
    "This saves animes list into a separate file (only run once):"
   ]
  },
  {
   "cell_type": "code",
   "execution_count": 48,
   "metadata": {},
   "outputs": [],
   "source": [
    "# animes = get_animes()"
   ]
  },
  {
   "cell_type": "code",
   "execution_count": 49,
   "metadata": {},
   "outputs": [],
   "source": [
    "# with open('animes.pickle', 'wb') as outfile:\n",
    "#     pickle.dump(animes, outfile)"
   ]
  }
 ],
 "metadata": {
  "kernelspec": {
   "display_name": "Python 3",
   "language": "python",
   "name": "python3"
  },
  "language_info": {
   "codemirror_mode": {
    "name": "ipython",
    "version": 3
   },
   "file_extension": ".py",
   "mimetype": "text/x-python",
   "name": "python",
   "nbconvert_exporter": "python",
   "pygments_lexer": "ipython3",
   "version": "3.7.3"
  }
 },
 "nbformat": 4,
 "nbformat_minor": 2
}
