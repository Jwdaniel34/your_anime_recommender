{
 "cells": [
  {
   "cell_type": "code",
   "execution_count": 1,
   "metadata": {},
   "outputs": [],
   "source": [
    "import requests\n",
    "from bs4 import BeautifulSoup\n",
    "from tqdm import tqdm\n",
    "import pickle\n",
    "import pandas as pd\n",
    "import re\n",
    "import time"
   ]
  },
  {
   "cell_type": "code",
   "execution_count": 2,
   "metadata": {},
   "outputs": [],
   "source": [
    "# loop with this url to pull all users\n",
    "user_list_url = 'https://www.anime-planet.com/anime/death-note/watched?page=1'\n",
    "\n",
    "# use this url to loop through and get all anime titles\n",
    "animes_url = 'https://www.anime-planet.com/anime/all?page=1'"
   ]
  },
  {
   "cell_type": "code",
   "execution_count": 3,
   "metadata": {},
   "outputs": [],
   "source": [
    "# Function to parse through the url\n",
    "def getAndParseUrl(url):\n",
    "    results = requests.get(url)\n",
    "    time.sleep(1)\n",
    "    soup = BeautifulSoup(results.text, 'html.parser')\n",
    "    return soup"
   ]
  },
  {
   "cell_type": "markdown",
   "metadata": {},
   "source": [
    "Reload users list"
   ]
  },
  {
   "cell_type": "code",
   "execution_count": 4,
   "metadata": {},
   "outputs": [],
   "source": [
    "with open('users.pickle', 'rb') as infile:\n",
    "    users=pickle.load(infile)\n",
    "\n",
    "infile.close()"
   ]
  },
  {
   "cell_type": "markdown",
   "metadata": {},
   "source": [
    "Reload animes list"
   ]
  },
  {
   "cell_type": "code",
   "execution_count": 5,
   "metadata": {},
   "outputs": [],
   "source": [
    "with open('animes.pickle', 'rb') as infile:\n",
    "    animes=pickle.load(infile)\n",
    "\n",
    "infile.close()"
   ]
  },
  {
   "cell_type": "markdown",
   "metadata": {},
   "source": [
    "## Get Each User's Rating for Each Anime"
   ]
  },
  {
   "cell_type": "code",
   "execution_count": 270,
   "metadata": {},
   "outputs": [],
   "source": [
    "# create the final list of dictionaries\n",
    "# each dictionary in the list is a different user's rating of an individual anime\n",
    "full_list_finals = []"
   ]
  },
  {
   "cell_type": "code",
   "execution_count": 1,
   "metadata": {
    "scrolled": false
   },
   "outputs": [],
   "source": [
    "# getting every user's rating for each anime\n",
    "\n",
    "# each anime's overview page\n",
    "for i in tqdm(range(4707,len(animes))):\n",
    "    genres=[]\n",
    "    anime_overview = getAndParseUrl(['https://www.'+url for url in animes.values()][i])\n",
    "    userstats_urls = ['https://www.' + url + '/watched' for url in animes.values()]\n",
    "    userstats = getAndParseUrl(userstats_urls[i])\n",
    "#     # gets the max number of pages in user stats\n",
    "#     userstats_pgs = userstats.findAll('ul', attrs={'class' : 'nav'})\n",
    "#     max_us_pgs = int(userstats_pgs[0].findAll('a')[-2].text)\n",
    "    \n",
    "    # each anime's first 4 genres\n",
    "    ag = anime_overview.select('li a[data-tooltip-entry]')\n",
    "    try:\n",
    "        for j in range(4):\n",
    "            genres.append(ag[j].text.strip('\\n'))\n",
    "    except:\n",
    "        try:\n",
    "            for g in range(2):\n",
    "                genres.append(ag[g].text.strip('\\n'))\n",
    "        except:\n",
    "            try:\n",
    "                for e in range(1):\n",
    "                    genres.append(ag[e].text.strip('\\n'))\n",
    "            except:\n",
    "                genres.append('None')\n",
    "        # go through each user stat page per anime\n",
    "    for u in range(1,6):\n",
    "        user_desc = getAndParseUrl(userstats_urls[i]+f'?page={u}')\n",
    "\n",
    "        # each user and the rating\n",
    "        for k in range(0,len(user_desc.select('td a[href]'))):\n",
    "            anime = {}\n",
    "            # each anime title\n",
    "            anime['title'] = anime_overview.select('h1')[0].text\n",
    "\n",
    "            # each genre\n",
    "            anime['genres'] = genres\n",
    "\n",
    "            user = user_desc.select('td a[href]')[k].text\n",
    "            rating = user_desc.findAll('div', {'class': 'starrating'})\n",
    "            ratings = rating[k].text\n",
    "            if user in users:\n",
    "                anime['user'] = user\n",
    "                anime['ratings'] = ratings\n",
    "                rest_of_animes.append(anime)\n",
    "            else: \n",
    "                continue\n",
    "    print(full_list_finals)\n",
    "    with open(\"full_list_finals.pickle\", \"wb\") as rest_file:\n",
    "        pickle.dump(full_list_finals, rest_file)\n"
   ]
  },
  {
   "cell_type": "code",
   "execution_count": 2,
   "metadata": {
    "scrolled": true
   },
   "outputs": [],
   "source": [
    "full_list_finals"
   ]
  },
  {
   "cell_type": "code",
   "execution_count": 274,
   "metadata": {},
   "outputs": [],
   "source": [
    "with open('full_list_final.pickle', 'wb') as outfile:\n",
    "    pickle.dump(full_list_final, outfile)\n",
    "\n",
    "outfile.close()"
   ]
  }
 ],
 "metadata": {
  "kernelspec": {
   "display_name": "Python 3",
   "language": "python",
   "name": "python3"
  },
  "language_info": {
   "codemirror_mode": {
    "name": "ipython",
    "version": 3
   },
   "file_extension": ".py",
   "mimetype": "text/x-python",
   "name": "python",
   "nbconvert_exporter": "python",
   "pygments_lexer": "ipython3",
   "version": "3.7.3"
  }
 },
 "nbformat": 4,
 "nbformat_minor": 2
}
