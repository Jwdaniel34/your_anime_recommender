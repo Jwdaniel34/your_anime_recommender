{
 "cells": [
  {
   "cell_type": "code",
   "execution_count": 9,
   "metadata": {},
   "outputs": [],
   "source": [
    "import pandas as pd\n",
    "from surprise.model_selection import cross_validate\n",
    "from surprise.prediction_algorithms import SVD\n",
    "from surprise.prediction_algorithms import KNNWithMeans, KNNBasic, KNNBaseline\n",
    "from surprise.model_selection import GridSearchCV\n",
    "import numpy as np\n",
    "import time"
   ]
  },
  {
   "cell_type": "code",
   "execution_count": 10,
   "metadata": {},
   "outputs": [
    {
     "data": {
      "text/plain": [
       "(478058, 6)"
      ]
     },
     "execution_count": 10,
     "metadata": {},
     "output_type": "execute_result"
    }
   ],
   "source": [
    "df = pd.read_csv('anime_data.csv')\n",
    "df = df.drop('Unnamed: 0', axis = 1)\n",
    "df.shape"
   ]
  },
  {
   "cell_type": "code",
   "execution_count": 11,
   "metadata": {},
   "outputs": [],
   "source": [
    "pd.options.display.max_colwidth = 1000"
   ]
  },
  {
   "cell_type": "code",
   "execution_count": 12,
   "metadata": {},
   "outputs": [
    {
     "data": {
      "text/html": [
       "<div>\n",
       "<style scoped>\n",
       "    .dataframe tbody tr th:only-of-type {\n",
       "        vertical-align: middle;\n",
       "    }\n",
       "\n",
       "    .dataframe tbody tr th {\n",
       "        vertical-align: top;\n",
       "    }\n",
       "\n",
       "    .dataframe thead th {\n",
       "        text-align: right;\n",
       "    }\n",
       "</style>\n",
       "<table border=\"1\" class=\"dataframe\">\n",
       "  <thead>\n",
       "    <tr style=\"text-align: right;\">\n",
       "      <th></th>\n",
       "      <th>title</th>\n",
       "      <th>genres</th>\n",
       "      <th>ratings</th>\n",
       "      <th>type</th>\n",
       "      <th>User_ID</th>\n",
       "      <th>Title_ID</th>\n",
       "    </tr>\n",
       "  </thead>\n",
       "  <tbody>\n",
       "    <tr>\n",
       "      <th>0</th>\n",
       "      <td>Fullmetal Alchemist: Brotherhood</td>\n",
       "      <td>['Action', 'Adventure', 'Drama', 'Fantasy']</td>\n",
       "      <td>8</td>\n",
       "      <td>TV</td>\n",
       "      <td>0</td>\n",
       "      <td>1244</td>\n",
       "    </tr>\n",
       "    <tr>\n",
       "      <th>1</th>\n",
       "      <td>Fullmetal Alchemist: Brotherhood</td>\n",
       "      <td>['Action', 'Adventure', 'Drama', 'Fantasy']</td>\n",
       "      <td>10</td>\n",
       "      <td>TV</td>\n",
       "      <td>3</td>\n",
       "      <td>1244</td>\n",
       "    </tr>\n",
       "    <tr>\n",
       "      <th>2</th>\n",
       "      <td>Fullmetal Alchemist: Brotherhood</td>\n",
       "      <td>['Action', 'Adventure', 'Drama', 'Fantasy']</td>\n",
       "      <td>10</td>\n",
       "      <td>TV</td>\n",
       "      <td>5</td>\n",
       "      <td>1244</td>\n",
       "    </tr>\n",
       "    <tr>\n",
       "      <th>3</th>\n",
       "      <td>Fullmetal Alchemist: Brotherhood</td>\n",
       "      <td>['Action', 'Adventure', 'Drama', 'Fantasy']</td>\n",
       "      <td>10</td>\n",
       "      <td>TV</td>\n",
       "      <td>6</td>\n",
       "      <td>1244</td>\n",
       "    </tr>\n",
       "    <tr>\n",
       "      <th>4</th>\n",
       "      <td>Fullmetal Alchemist: Brotherhood</td>\n",
       "      <td>['Action', 'Adventure', 'Drama', 'Fantasy']</td>\n",
       "      <td>6</td>\n",
       "      <td>TV</td>\n",
       "      <td>14</td>\n",
       "      <td>1244</td>\n",
       "    </tr>\n",
       "  </tbody>\n",
       "</table>\n",
       "</div>"
      ],
      "text/plain": [
       "                              title  \\\n",
       "0  Fullmetal Alchemist: Brotherhood   \n",
       "1  Fullmetal Alchemist: Brotherhood   \n",
       "2  Fullmetal Alchemist: Brotherhood   \n",
       "3  Fullmetal Alchemist: Brotherhood   \n",
       "4  Fullmetal Alchemist: Brotherhood   \n",
       "\n",
       "                                        genres  ratings type  User_ID  \\\n",
       "0  ['Action', 'Adventure', 'Drama', 'Fantasy']        8   TV        0   \n",
       "1  ['Action', 'Adventure', 'Drama', 'Fantasy']       10   TV        3   \n",
       "2  ['Action', 'Adventure', 'Drama', 'Fantasy']       10   TV        5   \n",
       "3  ['Action', 'Adventure', 'Drama', 'Fantasy']       10   TV        6   \n",
       "4  ['Action', 'Adventure', 'Drama', 'Fantasy']        6   TV       14   \n",
       "\n",
       "   Title_ID  \n",
       "0      1244  \n",
       "1      1244  \n",
       "2      1244  \n",
       "3      1244  \n",
       "4      1244  "
      ]
     },
     "execution_count": 12,
     "metadata": {},
     "output_type": "execute_result"
    }
   ],
   "source": [
    "df.head()"
   ]
  },
  {
   "cell_type": "markdown",
   "metadata": {},
   "source": [
    "### Prep The DataFrame For the Model W/ User, Item, And Rating For Surprise"
   ]
  },
  {
   "cell_type": "code",
   "execution_count": 13,
   "metadata": {},
   "outputs": [],
   "source": [
    "rec_df = df.drop(columns = df[['title', 'genres', 'type']])\n",
    "rec_df = rec_df[['User_ID', 'Title_ID', 'ratings']]"
   ]
  },
  {
   "cell_type": "code",
   "execution_count": 15,
   "metadata": {},
   "outputs": [
    {
     "data": {
      "text/html": [
       "<div>\n",
       "<style scoped>\n",
       "    .dataframe tbody tr th:only-of-type {\n",
       "        vertical-align: middle;\n",
       "    }\n",
       "\n",
       "    .dataframe tbody tr th {\n",
       "        vertical-align: top;\n",
       "    }\n",
       "\n",
       "    .dataframe thead th {\n",
       "        text-align: right;\n",
       "    }\n",
       "</style>\n",
       "<table border=\"1\" class=\"dataframe\">\n",
       "  <thead>\n",
       "    <tr style=\"text-align: right;\">\n",
       "      <th></th>\n",
       "      <th>User_ID</th>\n",
       "      <th>Title_ID</th>\n",
       "      <th>ratings</th>\n",
       "    </tr>\n",
       "  </thead>\n",
       "  <tbody>\n",
       "    <tr>\n",
       "      <th>0</th>\n",
       "      <td>0</td>\n",
       "      <td>1244</td>\n",
       "      <td>8</td>\n",
       "    </tr>\n",
       "    <tr>\n",
       "      <th>1</th>\n",
       "      <td>3</td>\n",
       "      <td>1244</td>\n",
       "      <td>10</td>\n",
       "    </tr>\n",
       "    <tr>\n",
       "      <th>2</th>\n",
       "      <td>5</td>\n",
       "      <td>1244</td>\n",
       "      <td>10</td>\n",
       "    </tr>\n",
       "    <tr>\n",
       "      <th>3</th>\n",
       "      <td>6</td>\n",
       "      <td>1244</td>\n",
       "      <td>10</td>\n",
       "    </tr>\n",
       "    <tr>\n",
       "      <th>4</th>\n",
       "      <td>14</td>\n",
       "      <td>1244</td>\n",
       "      <td>6</td>\n",
       "    </tr>\n",
       "  </tbody>\n",
       "</table>\n",
       "</div>"
      ],
      "text/plain": [
       "   User_ID  Title_ID  ratings\n",
       "0        0      1244        8\n",
       "1        3      1244       10\n",
       "2        5      1244       10\n",
       "3        6      1244       10\n",
       "4       14      1244        6"
      ]
     },
     "execution_count": 15,
     "metadata": {},
     "output_type": "execute_result"
    }
   ],
   "source": [
    "rec_df.head()"
   ]
  },
  {
   "cell_type": "code",
   "execution_count": 75,
   "metadata": {},
   "outputs": [],
   "source": [
    "rec_match = df[['title', 'Title_ID', 'genres']].drop_duplicates('Title_ID')"
   ]
  },
  {
   "cell_type": "code",
   "execution_count": 76,
   "metadata": {},
   "outputs": [
    {
     "data": {
      "text/html": [
       "<div>\n",
       "<style scoped>\n",
       "    .dataframe tbody tr th:only-of-type {\n",
       "        vertical-align: middle;\n",
       "    }\n",
       "\n",
       "    .dataframe tbody tr th {\n",
       "        vertical-align: top;\n",
       "    }\n",
       "\n",
       "    .dataframe thead th {\n",
       "        text-align: right;\n",
       "    }\n",
       "</style>\n",
       "<table border=\"1\" class=\"dataframe\">\n",
       "  <thead>\n",
       "    <tr style=\"text-align: right;\">\n",
       "      <th></th>\n",
       "      <th>title</th>\n",
       "      <th>Title_ID</th>\n",
       "      <th>genres</th>\n",
       "    </tr>\n",
       "  </thead>\n",
       "  <tbody>\n",
       "    <tr>\n",
       "      <th>0</th>\n",
       "      <td>Fullmetal Alchemist: Brotherhood</td>\n",
       "      <td>1244</td>\n",
       "      <td>['Action', 'Adventure', 'Drama', 'Fantasy']</td>\n",
       "    </tr>\n",
       "    <tr>\n",
       "      <th>130</th>\n",
       "      <td>your name.</td>\n",
       "      <td>4661</td>\n",
       "      <td>['Drama', 'Romance', 'Body Swapping', 'Gender Bender']</td>\n",
       "    </tr>\n",
       "    <tr>\n",
       "      <th>235</th>\n",
       "      <td>Attack on Titan 3rd Season: Part II</td>\n",
       "      <td>279</td>\n",
       "      <td>['Action', 'Fantasy', 'Horror', 'Shounen']</td>\n",
       "    </tr>\n",
       "    <tr>\n",
       "      <th>373</th>\n",
       "      <td>A Silent Voice</td>\n",
       "      <td>49</td>\n",
       "      <td>['Drama', 'Shounen', 'Melancholy', 'School Life']</td>\n",
       "    </tr>\n",
       "    <tr>\n",
       "      <th>480</th>\n",
       "      <td>Haikyuu!! Karasuno High School vs Shiratorizawa Academy</td>\n",
       "      <td>1531</td>\n",
       "      <td>['Shounen', 'Sports', 'Animeism', 'School Club']</td>\n",
       "    </tr>\n",
       "  </tbody>\n",
       "</table>\n",
       "</div>"
      ],
      "text/plain": [
       "                                                       title  Title_ID  \\\n",
       "0                           Fullmetal Alchemist: Brotherhood      1244   \n",
       "130                                               your name.      4661   \n",
       "235                      Attack on Titan 3rd Season: Part II       279   \n",
       "373                                           A Silent Voice        49   \n",
       "480  Haikyuu!! Karasuno High School vs Shiratorizawa Academy      1531   \n",
       "\n",
       "                                                     genres  \n",
       "0               ['Action', 'Adventure', 'Drama', 'Fantasy']  \n",
       "130  ['Drama', 'Romance', 'Body Swapping', 'Gender Bender']  \n",
       "235              ['Action', 'Fantasy', 'Horror', 'Shounen']  \n",
       "373       ['Drama', 'Shounen', 'Melancholy', 'School Life']  \n",
       "480        ['Shounen', 'Sports', 'Animeism', 'School Club']  "
      ]
     },
     "execution_count": 76,
     "metadata": {},
     "output_type": "execute_result"
    }
   ],
   "source": [
    "rec_match.head()"
   ]
  },
  {
   "cell_type": "markdown",
   "metadata": {},
   "source": [
    "### Fitting the Models with our Data"
   ]
  },
  {
   "cell_type": "code",
   "execution_count": 18,
   "metadata": {},
   "outputs": [],
   "source": [
    "from surprise import Reader, Dataset\n",
    "from surprise.prediction_algorithms import knns\n",
    "from surprise.similarities import cosine, msd, pearson\n",
    "from surprise import accuracy\n",
    "\n",
    "reader = Reader(rating_scale = (1,10))\n",
    "data = Dataset.load_from_df(rec_df, reader)"
   ]
  },
  {
   "cell_type": "code",
   "execution_count": 19,
   "metadata": {},
   "outputs": [],
   "source": [
    "from surprise.model_selection import train_test_split\n",
    "from surprise import accuracy\n",
    "#split data for accurate prediction\n",
    "trainset, testset = train_test_split(data, test_size=0.25, random_state = 100)"
   ]
  },
  {
   "cell_type": "markdown",
   "metadata": {},
   "source": [
    "### SVD Recommender Model"
   ]
  },
  {
   "cell_type": "code",
   "execution_count": 20,
   "metadata": {},
   "outputs": [
    {
     "name": "stdout",
     "output_type": "stream",
     "text": [
      "RMSE: 1.4013\n"
     ]
    },
    {
     "data": {
      "text/plain": [
       "1.4012932686927881"
      ]
     },
     "execution_count": 20,
     "metadata": {},
     "output_type": "execute_result"
    }
   ],
   "source": [
    "svd = SVD()\n",
    "svd.fit(trainset)\n",
    "preds = svd.test(testset)\n",
    "# Rating the Model\n",
    "accuracy.rmse(preds)\n",
    "# RMSE 1.4013"
   ]
  },
  {
   "cell_type": "markdown",
   "metadata": {},
   "source": [
    "## Model Tuning"
   ]
  },
  {
   "cell_type": "markdown",
   "metadata": {},
   "source": [
    "### Grid Search"
   ]
  },
  {
   "cell_type": "code",
   "execution_count": 21,
   "metadata": {},
   "outputs": [],
   "source": [
    "## Perform Grid search with SVD\n",
    "params = {'n_factors': [30,31,32,33,34,36,37,38,39],\n",
    "         'reg_all' : [0.02,0.05,0.1],\n",
    "         'n_epochs': (20,40,60)}\n",
    "gs_svd_e = GridSearchCV(SVD,param_grid= params, n_jobs=-1)\n",
    "gs_svd_e.fit(data)"
   ]
  },
  {
   "cell_type": "code",
   "execution_count": 22,
   "metadata": {},
   "outputs": [
    {
     "name": "stdout",
     "output_type": "stream",
     "text": [
      "{'rmse': 1.3695922019976408, 'mae': 1.0154223123105877}\n",
      "{'rmse': {'n_factors': 39, 'reg_all': 0.1, 'n_epochs': 40}, 'mae': {'n_factors': 39, 'reg_all': 0.1, 'n_epochs': 60}}\n"
     ]
    }
   ],
   "source": [
    "print(gs_svd_e.best_score)\n",
    "print(gs_svd_e.best_params)\n",
    "# {'rmse': 1.3695922019976408, 'mae': 1.0154223123105877}\n",
    "# {'rmse': {'n_factors': 39, 'reg_all': 0.1, 'n_epochs': 40}, 'mae': {'n_factors': 39, 'reg_all': 0.1, 'n_epochs': 60}}"
   ]
  },
  {
   "cell_type": "code",
   "execution_count": 23,
   "metadata": {},
   "outputs": [],
   "source": [
    "## Perform Grid search with SVD\n",
    "params = {'n_factors': [30,31,32,33,34,36,37,38,39],\n",
    "         'reg_all' : [0.02,0.05,0.1]}\n",
    "gs_svd = GridSearchCV(SVD,param_grid= params, n_jobs=-1)\n",
    "gs_svd.fit(data)"
   ]
  },
  {
   "cell_type": "code",
   "execution_count": 24,
   "metadata": {},
   "outputs": [
    {
     "name": "stdout",
     "output_type": "stream",
     "text": [
      "{'rmse': 1.3882633369322612, 'mae': 1.0364054473968252}\n",
      "{'rmse': {'n_factors': 39, 'reg_all': 0.05}, 'mae': {'n_factors': 39, 'reg_all': 0.05}}\n"
     ]
    }
   ],
   "source": [
    "print(gs_svd.best_score)\n",
    "print(gs_svd.best_params)\n",
    "# {'rmse': 1.3882633369322612, 'mae': 1.0364054473968252}\n",
    "# {'rmse': {'n_factors': 39, 'reg_all': 0.05}, 'mae': {'n_factors': 39, 'reg_all': 0.05}}"
   ]
  },
  {
   "cell_type": "markdown",
   "metadata": {},
   "source": [
    "### KNN_BASIC Recommender Model"
   ]
  },
  {
   "cell_type": "code",
   "execution_count": 25,
   "metadata": {},
   "outputs": [
    {
     "name": "stdout",
     "output_type": "stream",
     "text": [
      "Computing the pearson similarity matrix...\n",
      "Done computing similarity matrix.\n",
      "RMSE: 1.4883\n",
      "1.4882986594504284\n"
     ]
    }
   ],
   "source": [
    "sim_pearson = {'name':'pearson','user_based':False}\n",
    "basic_pearson = knns.KNNBasic(sim_options=sim_pearson)\n",
    "basic_pearson.fit(trainset)\n",
    "predictions = basic_pearson.test(testset)\n",
    "print(accuracy.rmse(predictions))\n",
    "# RMSE: 1.4883\n",
    "# 1.4882986594504284"
   ]
  },
  {
   "cell_type": "code",
   "execution_count": 26,
   "metadata": {},
   "outputs": [],
   "source": [
    "# cross validating with KNNBasic\n",
    "knn_basic = KNNBasic(sim_options={'name':'pearson','user_based':True, 'k':(40, 60, 70, 80, 90, 100, 120), 'min_k':(1,2,3,4)})\n",
    "cv_knn_basic= cross_validate(knn_basic,data,n_jobs=-1)"
   ]
  },
  {
   "cell_type": "markdown",
   "metadata": {},
   "source": [
    "### KNN_MEAN Recommender Model"
   ]
  },
  {
   "cell_type": "code",
   "execution_count": 27,
   "metadata": {},
   "outputs": [
    {
     "name": "stdout",
     "output_type": "stream",
     "text": [
      "Computing the pearson similarity matrix...\n",
      "Done computing similarity matrix.\n",
      "RMSE: 1.4258\n",
      "1.4258176210692983\n"
     ]
    }
   ],
   "source": [
    "sim_pearson = {'name':'pearson','user_based':False}\n",
    "knn_means = knns.KNNWithMeans(sim_options=sim_pearson)\n",
    "knn_means.fit(trainset)\n",
    "predictions = knn_means.test(testset)\n",
    "print(accuracy.rmse(predictions))\n",
    "# RMSE: 1.4258\n",
    "# 1.4258176210692983"
   ]
  },
  {
   "cell_type": "code",
   "execution_count": 31,
   "metadata": {},
   "outputs": [
    {
     "name": "stdout",
     "output_type": "stream",
     "text": [
      "('test_rmse', array([1.42967765, 1.42393694, 1.43217969, 1.43295429, 1.43183839]))\n",
      "('test_mae', array([1.06792647, 1.06638962, 1.06822984, 1.07216357, 1.07001707]))\n",
      "('fit_time', (72.90968418121338, 64.91526317596436, 58.292004108428955, 66.4349091053009, 63.06723690032959))\n",
      "('test_time', (17.386303901672363, 18.513285875320435, 19.74295973777771, 17.58661413192749, 17.80790114402771))\n"
     ]
    },
    {
     "data": {
      "text/plain": [
       "1.4301173926328858"
      ]
     },
     "execution_count": 31,
     "metadata": {},
     "output_type": "execute_result"
    }
   ],
   "source": [
    "for i in cv_knn_baseline.items():\n",
    "    print(i)\n",
    "\n",
    "np.mean(cv_knn_baseline['test_rmse'])\n",
    "# 1.4301173926328858"
   ]
  },
  {
   "cell_type": "markdown",
   "metadata": {},
   "source": [
    "### KNN_BASELINE Recommender Model"
   ]
  },
  {
   "cell_type": "code",
   "execution_count": 29,
   "metadata": {},
   "outputs": [
    {
     "name": "stdout",
     "output_type": "stream",
     "text": [
      "Estimating biases using als...\n",
      "Computing the pearson similarity matrix...\n",
      "Done computing similarity matrix.\n",
      "RMSE: 1.4141\n",
      "1.4141288433441572\n"
     ]
    }
   ],
   "source": [
    "sim_pearson = {'name':'pearson','user_based':False}\n",
    "knn_baseline = knns.KNNBaseline(sim_options=sim_pearson)\n",
    "knn_baseline.fit(trainset)\n",
    "predictions = knn_baseline.test(testset)\n",
    "print(accuracy.rmse(predictions))\n",
    "# RMSE: 1.4141\n",
    "# 1.4141288433441572"
   ]
  },
  {
   "cell_type": "code",
   "execution_count": 30,
   "metadata": {},
   "outputs": [
    {
     "name": "stdout",
     "output_type": "stream",
     "text": [
      "Estimating biases using als...\n",
      "Computing the pearson similarity matrix...\n",
      "Done computing similarity matrix.\n",
      "Estimating biases using als...\n",
      "Computing the pearson similarity matrix...\n",
      "Done computing similarity matrix.\n",
      "Estimating biases using als...\n",
      "Computing the pearson similarity matrix...\n",
      "Done computing similarity matrix.\n",
      "Estimating biases using als...\n",
      "Computing the pearson similarity matrix...\n",
      "Done computing similarity matrix.\n",
      "Estimating biases using als...\n",
      "Computing the pearson similarity matrix...\n",
      "Done computing similarity matrix.\n"
     ]
    }
   ],
   "source": [
    "# cross validating with KNNBaseline\n",
    "knn_baseline = KNNBaseline(sim_options={'name':'pearson','user_based':True, 'k':(40, 60, 80, 100, 120), \n",
    "                                        'min_k':(1,2,3,4)})\n",
    "cv_knn_baseline = cross_validate(knn_baseline,data)"
   ]
  },
  {
   "cell_type": "markdown",
   "metadata": {},
   "source": [
    "### SVD W/ Tuned Hyperparameter"
   ]
  },
  {
   "cell_type": "code",
   "execution_count": 32,
   "metadata": {},
   "outputs": [
    {
     "name": "stdout",
     "output_type": "stream",
     "text": [
      "RMSE: 1.3837\n",
      "1.3837085368570397\n"
     ]
    }
   ],
   "source": [
    "svd = SVD(n_factors=39,n_epochs=60,lr_all=0.005,reg_all=0.1)\n",
    "svd.fit(trainset)\n",
    "predictions = svd.test(testset)\n",
    "print(accuracy.rmse(predictions))"
   ]
  },
  {
   "cell_type": "markdown",
   "metadata": {},
   "source": [
    "## Function Model Predicting "
   ]
  },
  {
   "cell_type": "code",
   "execution_count": 85,
   "metadata": {},
   "outputs": [],
   "source": [
    "def recommend_anime(uid, iid, actual):\n",
    "    pred = svd.predict(uid, iid, actual, verbose =True)\n",
    "    match = rec_match.loc[rec_match['Title_ID'] == iid]\n",
    "    return match"
   ]
  },
  {
   "cell_type": "code",
   "execution_count": 96,
   "metadata": {
    "scrolled": true
   },
   "outputs": [
    {
     "name": "stdout",
     "output_type": "stream",
     "text": [
      "user: 45         item: 3          r_ui = 1.00   est = 6.41   {'was_impossible': False}\n"
     ]
    },
    {
     "data": {
      "text/html": [
       "<div>\n",
       "<style scoped>\n",
       "    .dataframe tbody tr th:only-of-type {\n",
       "        vertical-align: middle;\n",
       "    }\n",
       "\n",
       "    .dataframe tbody tr th {\n",
       "        vertical-align: top;\n",
       "    }\n",
       "\n",
       "    .dataframe thead th {\n",
       "        text-align: right;\n",
       "    }\n",
       "</style>\n",
       "<table border=\"1\" class=\"dataframe\">\n",
       "  <thead>\n",
       "    <tr style=\"text-align: right;\">\n",
       "      <th></th>\n",
       "      <th>title</th>\n",
       "      <th>Title_ID</th>\n",
       "      <th>genres</th>\n",
       "    </tr>\n",
       "  </thead>\n",
       "  <tbody>\n",
       "    <tr>\n",
       "      <th>264309</th>\n",
       "      <td>.hack//G.U. Trilogy</td>\n",
       "      <td>3</td>\n",
       "      <td>['MMORPG', 'RPG', 'Virtual Reality', 'CG Animation']</td>\n",
       "    </tr>\n",
       "  </tbody>\n",
       "</table>\n",
       "</div>"
      ],
      "text/plain": [
       "                      title  Title_ID  \\\n",
       "264309  .hack//G.U. Trilogy         3   \n",
       "\n",
       "                                                      genres  \n",
       "264309  ['MMORPG', 'RPG', 'Virtual Reality', 'CG Animation']  "
      ]
     },
     "execution_count": 96,
     "metadata": {},
     "output_type": "execute_result"
    }
   ],
   "source": [
    "recommend_anime(45, 3, 1)"
   ]
  },
  {
   "cell_type": "code",
   "execution_count": 83,
   "metadata": {},
   "outputs": [],
   "source": [
    "def get_recommendations(user_ratings, num_recs, genre):\n",
    "    new_ratings_df = rec_match.append(user_ratings,ignore_index=True)\n",
    "    new_ratings_df = new_ratings_df[new_ratings_df.genres.str.contains(genre, na=False)]\n",
    "    new_ratings_df = new_ratings_df.drop(columns=['title', 'genres'])\n",
    "\n",
    "    #load in new df\n",
    "    new_data = Dataset.load_from_df(new_ratings_df,reader)\n",
    "    #create new svd object\n",
    "    svd_new = SVD(n_factors=39,n_epochs=60,lr_all=0.005,reg_all=0.1)\n",
    "    #re fit the model\n",
    "    svd_new.fit(new_data.build_full_trainset())\n",
    "\n",
    "    # make predictions for the user\n",
    "    list_of_animes = []\n",
    "    for a_id in new_ratings_df['Title_ID'].unique():\n",
    "        list_of_animes.append((a_id, svd_new.predict(new_ratings_df['User_ID'].max(),a_id)[3]))\n",
    "\n",
    "    # order the predictions from highest to lowest rated\n",
    "    ranked_animes = sorted(list_of_animes, key=lambda x:x[1], reverse=True)\n",
    "\n",
    "    rec_num = 1\n",
    "    for i in ranked_animes[:num_recs]:\n",
    "        recommended = rec_match[rec_match['Title_ID'] == i[0]]\n",
    "        print('Recommendation number:', rec_num)\n",
    "        print('Anime: ' + recommended.values[0][0])\n",
    "        print('Genres: ' + (recommended.values[0][2]))\n",
    "#         print('Type' + recommended.values[0][-1])\n",
    "        print('\\n')\n",
    "        rec_num +=1\n",
    "    print(\"Thank You For Using John And Paul's Anim-endation\")"
   ]
  },
  {
   "cell_type": "code",
   "execution_count": 82,
   "metadata": {},
   "outputs": [],
   "source": [
    "def anime_rater(df, num):\n",
    "    userID = rec_df.User_ID.max()+1\n",
    "    num_recs = input('How many recommendations would you like? Please enter a number from 1 to 10:\\n')\n",
    "    \n",
    "    while int(num_recs) > 10 or int(num_recs) < 1:\n",
    "        num_recs = input('You entered a number outside of 1 to 10. Please enter a number from 1 to 10 to continue. \\n')\n",
    "    genre = input('Please enter your favorite genre. ')\n",
    "    rating_list = []\n",
    "    \n",
    "    while num > 0:\n",
    "        anime = df[df['genres'].str.contains(genre)].sample(1)\n",
    "        print('\\nPlease rate the following {} Animes. \\n'.format(num))\n",
    "        print('Anime: ' + str(anime.values[0][0]))\n",
    "        print('Genre: ' + str(anime.values[0][1]))\n",
    "#         print('Type: ' + str(anime.values[0][3]))\n",
    "        rating = input('How do you rate this Anime on a scale of 1-10, press n if you are never watched this anime. :\\n')\n",
    "            \n",
    "        if rating == 'n':\n",
    "            continue\n",
    "        \n",
    "        if int(rating) > 10:\n",
    "            print('Rating must be below 10!')\n",
    "            continue\n",
    "            \n",
    "        if int(rating) < 1:\n",
    "            print('Rating must be above 0!')\n",
    "            continue\n",
    "        \n",
    "        else:\n",
    "            rating_one_anime = {'User_ID':userID,'Title_ID': anime['Title_ID'].values[0],'rating': rating}\n",
    "            rating_list.append(rating_one_anime) \n",
    "            num -= 1\n",
    "        time.sleep(.5)\n",
    "    print('\\n'+'-----Making Recommendations-----'+'\\n')\n",
    "    time.sleep(1)\n",
    "    get_recommendations(rating_list, int(num_recs), genre)\n",
    "    "
   ]
  },
  {
   "cell_type": "code",
   "execution_count": 84,
   "metadata": {
    "scrolled": false
   },
   "outputs": [
    {
     "name": "stdout",
     "output_type": "stream",
     "text": [
      "How many recommendations would you like? Please enter a number from 1 to 10:\n",
      "10\n",
      "Please enter your favorite genre. Action\n",
      "\n",
      "Please rate the following 5 Animes. \n",
      "\n",
      "Anime: Godzilla Movie 2: City on the Edge of Battle\n",
      "Genre: ['Action', 'Mecha', 'Sci Fi', 'Military']\n",
      "How do you rate this Anime on a scale of 1-10, press n if you are never watched this anime. :\n",
      "n\n",
      "\n",
      "Please rate the following 5 Animes. \n",
      "\n",
      "Anime: AKB0048: Next Stage\n",
      "Genre: ['Action', 'Drama', 'Mecha', 'Sci Fi']\n",
      "How do you rate this Anime on a scale of 1-10, press n if you are never watched this anime. :\n",
      "n\n",
      "\n",
      "Please rate the following 5 Animes. \n",
      "\n",
      "Anime: Bubuki Buranki: The Gentle Giants of the Galaxy\n",
      "Genre: ['Action', 'Drama', 'Mecha', 'Sci Fi']\n",
      "How do you rate this Anime on a scale of 1-10, press n if you are never watched this anime. :\n",
      "n\n",
      "\n",
      "Please rate the following 5 Animes. \n",
      "\n",
      "Anime: Pokemon XY & Z Specials\n",
      "Genre: ['Action', 'Adventure', 'Fantasy', 'Shounen']\n",
      "How do you rate this Anime on a scale of 1-10, press n if you are never watched this anime. :\n",
      "n\n",
      "\n",
      "Please rate the following 5 Animes. \n",
      "\n",
      "Anime: Rockman EXE Axess\n",
      "Genre: ['Action', 'Adventure', 'Comedy', 'Sci Fi']\n",
      "How do you rate this Anime on a scale of 1-10, press n if you are never watched this anime. :\n",
      "n\n",
      "\n",
      "Please rate the following 5 Animes. \n",
      "\n",
      "Anime: Tsugumomo\n",
      "Genre: ['Action', 'Comedy', 'Ecchi', 'Harem']\n",
      "How do you rate this Anime on a scale of 1-10, press n if you are never watched this anime. :\n",
      "n\n",
      "\n",
      "Please rate the following 5 Animes. \n",
      "\n",
      "Anime: Library War\n",
      "Genre: ['Action', 'Comedy', 'Romance', 'Guns']\n",
      "How do you rate this Anime on a scale of 1-10, press n if you are never watched this anime. :\n",
      "n\n",
      "\n",
      "Please rate the following 5 Animes. \n",
      "\n",
      "Anime: El Cazador de la Bruja\n",
      "Genre: [' Action', 'Adventure', 'Bounty Hunters', 'Guns']\n",
      "How do you rate this Anime on a scale of 1-10, press n if you are never watched this anime. :\n",
      "n\n",
      "\n",
      "Please rate the following 5 Animes. \n",
      "\n",
      "Anime: Tales of Vesperia ~The First Strike~\n",
      "Genre: ['Action', 'Adventure', 'Fantasy', 'Magic']\n",
      "How do you rate this Anime on a scale of 1-10, press n if you are never watched this anime. :\n",
      "n\n",
      "\n",
      "Please rate the following 5 Animes. \n",
      "\n",
      "Anime: Tokyo Majin: 2nd Act\n",
      "Genre: ['Action', 'Horror', 'Demons', 'Supernatural']\n",
      "How do you rate this Anime on a scale of 1-10, press n if you are never watched this anime. :\n",
      "n\n",
      "\n",
      "Please rate the following 5 Animes. \n",
      "\n",
      "Anime: Fate/Kaleid Liner Prisma Illya 2wei!\n",
      "Genre: ['Action', 'Fantasy', 'Magical Girl', 'Shounen']\n",
      "How do you rate this Anime on a scale of 1-10, press n if you are never watched this anime. :\n",
      "n\n",
      "\n",
      "Please rate the following 5 Animes. \n",
      "\n",
      "Anime: Cyborg 009: Call of Justice - Movie 3\n",
      "Genre: ['Action', 'Sci Fi', 'Cyborgs', 'Based on a Manga']\n",
      "How do you rate this Anime on a scale of 1-10, press n if you are never watched this anime. :\n",
      "8\n",
      "\n",
      "Please rate the following 4 Animes. \n",
      "\n",
      "Anime: Hajime no Ippo: Mashiba vs Kimura\n",
      "Genre: ['Action', 'Drama', 'Shounen', 'Sports']\n",
      "How do you rate this Anime on a scale of 1-10, press n if you are never watched this anime. :\n",
      "9\n",
      "\n",
      "Please rate the following 3 Animes. \n",
      "\n",
      "Anime: Freezing\n",
      "Genre: ['Action', 'Ecchi', 'Seinen', 'Aliens']\n",
      "How do you rate this Anime on a scale of 1-10, press n if you are never watched this anime. :\n",
      "9\n",
      "\n",
      "Please rate the following 2 Animes. \n",
      "\n",
      "Anime: Gatekeepers\n",
      "Genre: ['Action', 'Comedy', 'Sci Fi\\n ', 'Aliens']\n",
      "How do you rate this Anime on a scale of 1-10, press n if you are never watched this anime. :\n",
      "9\n",
      "\n",
      "Please rate the following 1 Animes. \n",
      "\n",
      "Anime: One Piece: Romance Dawn Story\n",
      "Genre: ['Action', 'Comedy', 'Shounen', 'Pirates']\n",
      "How do you rate this Anime on a scale of 1-10, press n if you are never watched this anime. :\n",
      "5\n",
      "\n",
      "-----Making Recommendations-----\n",
      "\n",
      "Recommendation number: 1\n",
      "Anime: Fullmetal Alchemist: Brotherhood\n",
      "Genres: ['Action', 'Adventure', 'Drama', 'Fantasy']\n",
      "\n",
      "\n",
      "Recommendation number: 2\n",
      "Anime: Attack on Titan 3rd Season: Part II\n",
      "Genres: ['Action', 'Fantasy', 'Horror', 'Shounen']\n",
      "\n",
      "\n",
      "Recommendation number: 3\n",
      "Anime: Demon Slayer: Kimetsu no Yaiba\n",
      "Genres: ['Action', 'Adventure', 'Comedy', 'Drama']\n",
      "\n",
      "\n",
      "Recommendation number: 4\n",
      "Anime: My Hero Academia 3\n",
      "Genres: ['Action', 'Comedy', 'Drama', 'Sci Fi']\n",
      "\n",
      "\n",
      "Recommendation number: 5\n",
      "Anime: Hunter x Hunter (2011)\n",
      "Genres: ['Action', 'Adventure', 'Drama', 'Fantasy']\n",
      "\n",
      "\n",
      "Recommendation number: 6\n",
      "Anime: Mob Psycho 100 II\n",
      "Genres: ['Action', 'Comedy', 'Shounen', 'Psychic Powers']\n",
      "\n",
      "\n",
      "Recommendation number: 7\n",
      "Anime: Gintama Kanketsu-hen: Yorozuya yo Eien Nare\n",
      "Genres: ['Action', 'Comedy', 'Drama', 'Sci Fi']\n",
      "\n",
      "\n",
      "Recommendation number: 8\n",
      "Anime: Gintama (2015)\n",
      "Genres: ['Action', 'Comedy', 'Drama', 'Sci Fi']\n",
      "\n",
      "\n",
      "Recommendation number: 9\n",
      "Anime: My Hero Academia 2\n",
      "Genres: ['Action', 'Comedy', 'Drama', 'Sci Fi']\n",
      "\n",
      "\n",
      "Recommendation number: 10\n",
      "Anime: Gintama.: Shirogane no Tamashii-hen 2\n",
      "Genres: ['Action', 'Comedy', 'Drama', 'Sci Fi']\n",
      "\n",
      "\n",
      "Thank You For Using John And Paul's Anim-endation\n"
     ]
    }
   ],
   "source": [
    "user_ratings = anime_rater(df,5)"
   ]
  },
  {
   "cell_type": "code",
   "execution_count": null,
   "metadata": {},
   "outputs": [],
   "source": []
  }
 ],
 "metadata": {
  "kernelspec": {
   "display_name": "Python 3",
   "language": "python",
   "name": "python3"
  },
  "language_info": {
   "codemirror_mode": {
    "name": "ipython",
    "version": 3
   },
   "file_extension": ".py",
   "mimetype": "text/x-python",
   "name": "python",
   "nbconvert_exporter": "python",
   "pygments_lexer": "ipython3",
   "version": "3.7.3"
  }
 },
 "nbformat": 4,
 "nbformat_minor": 2
}
