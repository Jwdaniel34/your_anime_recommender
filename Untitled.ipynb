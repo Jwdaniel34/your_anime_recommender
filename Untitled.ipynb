{
 "cells": [
  {
   "cell_type": "code",
   "execution_count": 46,
   "metadata": {},
   "outputs": [],
   "source": [
    "import requests\n",
    "from bs4 import BeautifulSoup\n",
    "from tqdm import tqdm\n",
    "import pickle"
   ]
  },
  {
   "cell_type": "code",
   "execution_count": 11,
   "metadata": {},
   "outputs": [],
   "source": [
    "# loop with this url to pull all users\n",
    "user_list_url = 'https://www.anime-planet.com/anime/death-note/watched?page=1'\n",
    "\n",
    "# use this url to loop through and get all anime titles\n",
    "animes_url = 'https://www.anime-planet.com/anime/all?page=1'"
   ]
  },
  {
   "cell_type": "code",
   "execution_count": 15,
   "metadata": {},
   "outputs": [],
   "source": [
    "# Function to parse through the url\n",
    "def getAndParseUrl(url):\n",
    "    results = requests.get(url)\n",
    "#     time.sleep(1)\n",
    "    soup = BeautifulSoup(results.text, 'html.parser')\n",
    "    return soup"
   ]
  },
  {
   "cell_type": "code",
   "execution_count": 43,
   "metadata": {},
   "outputs": [],
   "source": [
    "# Hard-coded function to loop through each page with user\n",
    "def get_users():\n",
    "    all_users = []\n",
    "    for pg in tqdm(range(1,2945)):\n",
    "        url = f'https://www.anime-planet.com/anime/death-note/watched?page={pg}'\n",
    "        page = getAndParseUrl(url)\n",
    "        users = page.select('td a[href]')\n",
    "        for i in range(len(users)):\n",
    "            all_users.append(users[i].text)\n",
    "    return all_users"
   ]
  },
  {
   "cell_type": "code",
   "execution_count": 44,
   "metadata": {},
   "outputs": [
    {
     "name": "stderr",
     "output_type": "stream",
     "text": [
      "100%|██████████| 2944/2944 [1:25:44<00:00,  1.91s/it]\n"
     ]
    }
   ],
   "source": [
    "users = get_users()"
   ]
  },
  {
   "cell_type": "code",
   "execution_count": 47,
   "metadata": {},
   "outputs": [],
   "source": [
    "with open(\"users.pickle\", \"wb\") as fp:\n",
    "    pickle.dump(users, fp)"
   ]
  },
  {
   "cell_type": "code",
   "execution_count": null,
   "metadata": {},
   "outputs": [],
   "source": []
  }
 ],
 "metadata": {
  "kernelspec": {
   "display_name": "Python 3",
   "language": "python",
   "name": "python3"
  },
  "language_info": {
   "codemirror_mode": {
    "name": "ipython",
    "version": 3
   },
   "file_extension": ".py",
   "mimetype": "text/x-python",
   "name": "python",
   "nbconvert_exporter": "python",
   "pygments_lexer": "ipython3",
   "version": "3.7.3"
  }
 },
 "nbformat": 4,
 "nbformat_minor": 2
}
