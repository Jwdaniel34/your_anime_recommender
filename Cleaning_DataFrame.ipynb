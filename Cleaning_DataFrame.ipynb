{
 "cells": [
  {
   "cell_type": "code",
   "execution_count": 2,
   "metadata": {},
   "outputs": [],
   "source": [
    "import pandas as pd\n",
    "import numpy as np\n",
    "import matplotlib.pyplot as plt\n",
    "import seaborn as sns\n",
    "import pickle\n",
    "\n",
    "%matplotlib inline"
   ]
  },
  {
   "cell_type": "code",
   "execution_count": 55,
   "metadata": {},
   "outputs": [],
   "source": [
    "with open('full_list_final.pickle', 'rb') as infile:\n",
    "    final=pickle.load(infile)\n",
    "\n",
    "infile.close()"
   ]
  },
  {
   "cell_type": "code",
   "execution_count": 56,
   "metadata": {},
   "outputs": [],
   "source": [
    "df_types = pd.read_csv('anime_types.csv', index_col = 0)"
   ]
  },
  {
   "cell_type": "code",
   "execution_count": 57,
   "metadata": {},
   "outputs": [],
   "source": [
    "df = pd.DataFrame.from_dict(final)"
   ]
  },
  {
   "cell_type": "code",
   "execution_count": 58,
   "metadata": {},
   "outputs": [],
   "source": [
    "df = df[['title', 'genres', 'user', 'ratings']]"
   ]
  },
  {
   "cell_type": "code",
   "execution_count": 54,
   "metadata": {},
   "outputs": [
    {
     "data": {
      "text/plain": [
       "41018"
      ]
     },
     "execution_count": 54,
     "metadata": {},
     "output_type": "execute_result"
    }
   ],
   "source": [
    "len(df['user'].unique())"
   ]
  },
  {
   "cell_type": "code",
   "execution_count": 61,
   "metadata": {},
   "outputs": [],
   "source": [
    "df['ratings'] = df['ratings'].replace('', value = 0)"
   ]
  },
  {
   "cell_type": "code",
   "execution_count": 62,
   "metadata": {},
   "outputs": [],
   "source": [
    "df['ratings'] = df['ratings'].astype('float64')"
   ]
  },
  {
   "cell_type": "code",
   "execution_count": 63,
   "metadata": {},
   "outputs": [],
   "source": [
    "# RUN THIS ONLY ONCE!!\n",
    "df.ratings = df.ratings*2"
   ]
  },
  {
   "cell_type": "code",
   "execution_count": 64,
   "metadata": {},
   "outputs": [],
   "source": [
    "df['ratings'] = df['ratings'].astype('int64')"
   ]
  },
  {
   "cell_type": "code",
   "execution_count": 65,
   "metadata": {},
   "outputs": [],
   "source": [
    "df = df.merge(df_types, left_on = 'title', right_on = 'title')"
   ]
  },
  {
   "cell_type": "markdown",
   "metadata": {},
   "source": [
    "### Include users who only reviewed more than 5 Animes"
   ]
  },
  {
   "cell_type": "code",
   "execution_count": 67,
   "metadata": {},
   "outputs": [],
   "source": [
    "df1 = df.groupby('user').filter(lambda x: len(x) > 5)"
   ]
  },
  {
   "cell_type": "code",
   "execution_count": 68,
   "metadata": {},
   "outputs": [
    {
     "data": {
      "image/png": "[encoded data removed]",
      "text/plain": [
       "<Figure size 432x288 with 1 Axes>"
      ]
     },
     "metadata": {
      "needs_background": "light"
     },
     "output_type": "display_data"
    }
   ],
   "source": [
    "sns.heatmap(df1.isnull(), cbar=False)\n",
    "plt.show()"
   ]
  },
  {
   "cell_type": "code",
   "execution_count": 69,
   "metadata": {},
   "outputs": [
    {
     "name": "stdout",
     "output_type": "stream",
     "text": [
      "<class 'pandas.core.frame.DataFrame'>\n",
      "Int64Index: 767524 entries, 0 to 818489\n",
      "Data columns (total 5 columns):\n",
      "title      767524 non-null object\n",
      "genres     767524 non-null object\n",
      "user       767524 non-null object\n",
      "ratings    767524 non-null int64\n",
      "type       767524 non-null object\n",
      "dtypes: int64(1), object(4)\n",
      "memory usage: 35.1+ MB\n"
     ]
    }
   ],
   "source": [
    "df1.info()"
   ]
  },
  {
   "cell_type": "code",
   "execution_count": 70,
   "metadata": {},
   "outputs": [
    {
     "name": "stderr",
     "output_type": "stream",
     "text": [
      "/Users/flatironschool/anaconda3/lib/python3.7/site-packages/ipykernel_launcher.py:1: SettingWithCopyWarning: \n",
      "A value is trying to be set on a copy of a slice from a DataFrame.\n",
      "Try using .loc[row_indexer,col_indexer] = value instead\n",
      "\n",
      "See the caveats in the documentation: http://pandas.pydata.org/pandas-docs/stable/indexing.html#indexing-view-versus-copy\n",
      "  \"\"\"Entry point for launching an IPython kernel.\n"
     ]
    }
   ],
   "source": [
    "df1['User_ID'] = df1.groupby('user').grouper.group_info[0]"
   ]
  },
  {
   "cell_type": "code",
   "execution_count": 71,
   "metadata": {},
   "outputs": [
    {
     "name": "stderr",
     "output_type": "stream",
     "text": [
      "/Users/flatironschool/anaconda3/lib/python3.7/site-packages/ipykernel_launcher.py:1: SettingWithCopyWarning: \n",
      "A value is trying to be set on a copy of a slice from a DataFrame.\n",
      "Try using .loc[row_indexer,col_indexer] = value instead\n",
      "\n",
      "See the caveats in the documentation: http://pandas.pydata.org/pandas-docs/stable/indexing.html#indexing-view-versus-copy\n",
      "  \"\"\"Entry point for launching an IPython kernel.\n"
     ]
    }
   ],
   "source": [
    "df1['Title_ID'] = df1.groupby('title').grouper.group_info[0]"
   ]
  },
  {
   "cell_type": "code",
   "execution_count": 72,
   "metadata": {},
   "outputs": [
    {
     "data": {
      "text/html": [
       "<div>\n",
       "<style scoped>\n",
       "    .dataframe tbody tr th:only-of-type {\n",
       "        vertical-align: middle;\n",
       "    }\n",
       "\n",
       "    .dataframe tbody tr th {\n",
       "        vertical-align: top;\n",
       "    }\n",
       "\n",
       "    .dataframe thead th {\n",
       "        text-align: right;\n",
       "    }\n",
       "</style>\n",
       "<table border=\"1\" class=\"dataframe\">\n",
       "  <thead>\n",
       "    <tr style=\"text-align: right;\">\n",
       "      <th></th>\n",
       "      <th>title</th>\n",
       "      <th>genres</th>\n",
       "      <th>user</th>\n",
       "      <th>ratings</th>\n",
       "      <th>type</th>\n",
       "      <th>User_ID</th>\n",
       "      <th>Title_ID</th>\n",
       "    </tr>\n",
       "  </thead>\n",
       "  <tbody>\n",
       "    <tr>\n",
       "      <th>2</th>\n",
       "      <td>Fullmetal Alchemist: Brotherhood</td>\n",
       "      <td>[Action, Adventure, Drama, Fantasy]</td>\n",
       "      <td>004</td>\n",
       "      <td>10</td>\n",
       "      <td>TV</td>\n",
       "      <td>3</td>\n",
       "      <td>1244</td>\n",
       "    </tr>\n",
       "    <tr>\n",
       "      <th>1252</th>\n",
       "      <td>Hunter x Hunter (2011)</td>\n",
       "      <td>[Action, Adventure, Drama, Fantasy]</td>\n",
       "      <td>004</td>\n",
       "      <td>7</td>\n",
       "      <td>TV</td>\n",
       "      <td>3</td>\n",
       "      <td>1767</td>\n",
       "    </tr>\n",
       "    <tr>\n",
       "      <th>2082</th>\n",
       "      <td>Steins;Gate</td>\n",
       "      <td>[Sci Fi, Conspiracy, LGBT Themes, Psychological]</td>\n",
       "      <td>004</td>\n",
       "      <td>10</td>\n",
       "      <td>TV</td>\n",
       "      <td>3</td>\n",
       "      <td>3833</td>\n",
       "    </tr>\n",
       "    <tr>\n",
       "      <th>2272</th>\n",
       "      <td>Code Geass: Lelouch of the Rebellion R2</td>\n",
       "      <td>[Mecha, Sci Fi, Conspiracy, Mind Games]</td>\n",
       "      <td>004</td>\n",
       "      <td>8</td>\n",
       "      <td>TV</td>\n",
       "      <td>3</td>\n",
       "      <td>682</td>\n",
       "    </tr>\n",
       "    <tr>\n",
       "      <th>4816</th>\n",
       "      <td>Spirited Away</td>\n",
       "      <td>[Adventure, Fantasy, Curse, Family Friendly]</td>\n",
       "      <td>004</td>\n",
       "      <td>7</td>\n",
       "      <td>Movie</td>\n",
       "      <td>3</td>\n",
       "      <td>3808</td>\n",
       "    </tr>\n",
       "  </tbody>\n",
       "</table>\n",
       "</div>"
      ],
      "text/plain": [
       "                                        title  \\\n",
       "2            Fullmetal Alchemist: Brotherhood   \n",
       "1252                   Hunter x Hunter (2011)   \n",
       "2082                              Steins;Gate   \n",
       "2272  Code Geass: Lelouch of the Rebellion R2   \n",
       "4816                            Spirited Away   \n",
       "\n",
       "                                                genres user  ratings   type  \\\n",
       "2                  [Action, Adventure, Drama, Fantasy]  004       10     TV   \n",
       "1252               [Action, Adventure, Drama, Fantasy]  004        7     TV   \n",
       "2082  [Sci Fi, Conspiracy, LGBT Themes, Psychological]  004       10     TV   \n",
       "2272           [Mecha, Sci Fi, Conspiracy, Mind Games]  004        8     TV   \n",
       "4816      [Adventure, Fantasy, Curse, Family Friendly]  004        7  Movie   \n",
       "\n",
       "      User_ID  Title_ID  \n",
       "2           3      1244  \n",
       "1252        3      1767  \n",
       "2082        3      3833  \n",
       "2272        3       682  \n",
       "4816        3      3808  "
      ]
     },
     "execution_count": 72,
     "metadata": {},
     "output_type": "execute_result"
    }
   ],
   "source": [
    "df1[df1.user == '004'].head()"
   ]
  },
  {
   "cell_type": "markdown",
   "metadata": {},
   "source": [
    "### Drop Users For Confidentiallity "
   ]
  },
  {
   "cell_type": "code",
   "execution_count": 73,
   "metadata": {},
   "outputs": [],
   "source": [
    "df2 = df1.drop(columns=['user'])"
   ]
  },
  {
   "cell_type": "markdown",
   "metadata": {},
   "source": [
    "### Drop Music Videos From Type"
   ]
  },
  {
   "cell_type": "code",
   "execution_count": 74,
   "metadata": {},
   "outputs": [],
   "source": [
    "df2 = df2[df2['type'] != 'Video']"
   ]
  },
  {
   "cell_type": "markdown",
   "metadata": {},
   "source": [
    "### Drop 0 ratings From Users"
   ]
  },
  {
   "cell_type": "code",
   "execution_count": 75,
   "metadata": {},
   "outputs": [],
   "source": [
    "df2 = df2[df2['ratings'] != 0]"
   ]
  },
  {
   "cell_type": "code",
   "execution_count": 76,
   "metadata": {},
   "outputs": [
    {
     "data": {
      "text/html": [
       "<div>\n",
       "<style scoped>\n",
       "    .dataframe tbody tr th:only-of-type {\n",
       "        vertical-align: middle;\n",
       "    }\n",
       "\n",
       "    .dataframe tbody tr th {\n",
       "        vertical-align: top;\n",
       "    }\n",
       "\n",
       "    .dataframe thead th {\n",
       "        text-align: right;\n",
       "    }\n",
       "</style>\n",
       "<table border=\"1\" class=\"dataframe\">\n",
       "  <thead>\n",
       "    <tr style=\"text-align: right;\">\n",
       "      <th></th>\n",
       "      <th>title</th>\n",
       "      <th>genres</th>\n",
       "      <th>ratings</th>\n",
       "      <th>type</th>\n",
       "      <th>User_ID</th>\n",
       "      <th>Title_ID</th>\n",
       "    </tr>\n",
       "  </thead>\n",
       "  <tbody>\n",
       "    <tr>\n",
       "      <th>0</th>\n",
       "      <td>Fullmetal Alchemist: Brotherhood</td>\n",
       "      <td>[Action, Adventure, Drama, Fantasy]</td>\n",
       "      <td>8</td>\n",
       "      <td>TV</td>\n",
       "      <td>0</td>\n",
       "      <td>1244</td>\n",
       "    </tr>\n",
       "    <tr>\n",
       "      <th>2</th>\n",
       "      <td>Fullmetal Alchemist: Brotherhood</td>\n",
       "      <td>[Action, Adventure, Drama, Fantasy]</td>\n",
       "      <td>10</td>\n",
       "      <td>TV</td>\n",
       "      <td>3</td>\n",
       "      <td>1244</td>\n",
       "    </tr>\n",
       "    <tr>\n",
       "      <th>3</th>\n",
       "      <td>Fullmetal Alchemist: Brotherhood</td>\n",
       "      <td>[Action, Adventure, Drama, Fantasy]</td>\n",
       "      <td>10</td>\n",
       "      <td>TV</td>\n",
       "      <td>5</td>\n",
       "      <td>1244</td>\n",
       "    </tr>\n",
       "    <tr>\n",
       "      <th>4</th>\n",
       "      <td>Fullmetal Alchemist: Brotherhood</td>\n",
       "      <td>[Action, Adventure, Drama, Fantasy]</td>\n",
       "      <td>10</td>\n",
       "      <td>TV</td>\n",
       "      <td>6</td>\n",
       "      <td>1244</td>\n",
       "    </tr>\n",
       "    <tr>\n",
       "      <th>5</th>\n",
       "      <td>Fullmetal Alchemist: Brotherhood</td>\n",
       "      <td>[Action, Adventure, Drama, Fantasy]</td>\n",
       "      <td>6</td>\n",
       "      <td>TV</td>\n",
       "      <td>14</td>\n",
       "      <td>1244</td>\n",
       "    </tr>\n",
       "  </tbody>\n",
       "</table>\n",
       "</div>"
      ],
      "text/plain": [
       "                              title                               genres  \\\n",
       "0  Fullmetal Alchemist: Brotherhood  [Action, Adventure, Drama, Fantasy]   \n",
       "2  Fullmetal Alchemist: Brotherhood  [Action, Adventure, Drama, Fantasy]   \n",
       "3  Fullmetal Alchemist: Brotherhood  [Action, Adventure, Drama, Fantasy]   \n",
       "4  Fullmetal Alchemist: Brotherhood  [Action, Adventure, Drama, Fantasy]   \n",
       "5  Fullmetal Alchemist: Brotherhood  [Action, Adventure, Drama, Fantasy]   \n",
       "\n",
       "   ratings type  User_ID  Title_ID  \n",
       "0        8   TV        0      1244  \n",
       "2       10   TV        3      1244  \n",
       "3       10   TV        5      1244  \n",
       "4       10   TV        6      1244  \n",
       "5        6   TV       14      1244  "
      ]
     },
     "execution_count": 76,
     "metadata": {},
     "output_type": "execute_result"
    }
   ],
   "source": [
    "df2.head()"
   ]
  },
  {
   "cell_type": "code",
   "execution_count": 77,
   "metadata": {},
   "outputs": [
    {
     "data": {
      "text/html": [
       "<div>\n",
       "<style scoped>\n",
       "    .dataframe tbody tr th:only-of-type {\n",
       "        vertical-align: middle;\n",
       "    }\n",
       "\n",
       "    .dataframe tbody tr th {\n",
       "        vertical-align: top;\n",
       "    }\n",
       "\n",
       "    .dataframe thead th {\n",
       "        text-align: right;\n",
       "    }\n",
       "</style>\n",
       "<table border=\"1\" class=\"dataframe\">\n",
       "  <thead>\n",
       "    <tr style=\"text-align: right;\">\n",
       "      <th></th>\n",
       "      <th>ratings</th>\n",
       "      <th>User_ID</th>\n",
       "      <th>Title_ID</th>\n",
       "    </tr>\n",
       "  </thead>\n",
       "  <tbody>\n",
       "    <tr>\n",
       "      <th>count</th>\n",
       "      <td>478058.000000</td>\n",
       "      <td>478058.000000</td>\n",
       "      <td>478058.000000</td>\n",
       "    </tr>\n",
       "    <tr>\n",
       "      <th>mean</th>\n",
       "      <td>7.429446</td>\n",
       "      <td>6026.172456</td>\n",
       "      <td>2322.318120</td>\n",
       "    </tr>\n",
       "    <tr>\n",
       "      <th>std</th>\n",
       "      <td>1.860239</td>\n",
       "      <td>4881.927608</td>\n",
       "      <td>1350.020636</td>\n",
       "    </tr>\n",
       "    <tr>\n",
       "      <th>min</th>\n",
       "      <td>1.000000</td>\n",
       "      <td>0.000000</td>\n",
       "      <td>0.000000</td>\n",
       "    </tr>\n",
       "    <tr>\n",
       "      <th>25%</th>\n",
       "      <td>6.000000</td>\n",
       "      <td>1448.000000</td>\n",
       "      <td>1156.000000</td>\n",
       "    </tr>\n",
       "    <tr>\n",
       "      <th>50%</th>\n",
       "      <td>8.000000</td>\n",
       "      <td>4640.000000</td>\n",
       "      <td>2329.000000</td>\n",
       "    </tr>\n",
       "    <tr>\n",
       "      <th>75%</th>\n",
       "      <td>9.000000</td>\n",
       "      <td>10839.000000</td>\n",
       "      <td>3497.000000</td>\n",
       "    </tr>\n",
       "    <tr>\n",
       "      <th>max</th>\n",
       "      <td>10.000000</td>\n",
       "      <td>16194.000000</td>\n",
       "      <td>4661.000000</td>\n",
       "    </tr>\n",
       "  </tbody>\n",
       "</table>\n",
       "</div>"
      ],
      "text/plain": [
       "             ratings        User_ID       Title_ID\n",
       "count  478058.000000  478058.000000  478058.000000\n",
       "mean        7.429446    6026.172456    2322.318120\n",
       "std         1.860239    4881.927608    1350.020636\n",
       "min         1.000000       0.000000       0.000000\n",
       "25%         6.000000    1448.000000    1156.000000\n",
       "50%         8.000000    4640.000000    2329.000000\n",
       "75%         9.000000   10839.000000    3497.000000\n",
       "max        10.000000   16194.000000    4661.000000"
      ]
     },
     "execution_count": 77,
     "metadata": {},
     "output_type": "execute_result"
    }
   ],
   "source": [
    "df2.describe()"
   ]
  },
  {
   "cell_type": "code",
   "execution_count": 78,
   "metadata": {},
   "outputs": [
    {
     "data": {
      "text/html": [
       "<div>\n",
       "<style scoped>\n",
       "    .dataframe tbody tr th:only-of-type {\n",
       "        vertical-align: middle;\n",
       "    }\n",
       "\n",
       "    .dataframe tbody tr th {\n",
       "        vertical-align: top;\n",
       "    }\n",
       "\n",
       "    .dataframe thead th {\n",
       "        text-align: right;\n",
       "    }\n",
       "</style>\n",
       "<table border=\"1\" class=\"dataframe\">\n",
       "  <thead>\n",
       "    <tr style=\"text-align: right;\">\n",
       "      <th></th>\n",
       "      <th>title</th>\n",
       "      <th>genres</th>\n",
       "      <th>ratings</th>\n",
       "      <th>type</th>\n",
       "      <th>User_ID</th>\n",
       "      <th>Title_ID</th>\n",
       "    </tr>\n",
       "  </thead>\n",
       "  <tbody>\n",
       "    <tr>\n",
       "      <th>307542</th>\n",
       "      <td>Aldnoah.Zero 2nd Season</td>\n",
       "      <td>[Action, Mecha, Sci Fi, Conspiracy]</td>\n",
       "      <td>10</td>\n",
       "      <td>TV</td>\n",
       "      <td>9</td>\n",
       "      <td>142</td>\n",
       "    </tr>\n",
       "    <tr>\n",
       "      <th>307544</th>\n",
       "      <td>Aldnoah.Zero 2nd Season</td>\n",
       "      <td>[Action, Mecha, Sci Fi, Conspiracy]</td>\n",
       "      <td>7</td>\n",
       "      <td>TV</td>\n",
       "      <td>47</td>\n",
       "      <td>142</td>\n",
       "    </tr>\n",
       "    <tr>\n",
       "      <th>307545</th>\n",
       "      <td>Aldnoah.Zero 2nd Season</td>\n",
       "      <td>[Action, Mecha, Sci Fi, Conspiracy]</td>\n",
       "      <td>8</td>\n",
       "      <td>TV</td>\n",
       "      <td>46</td>\n",
       "      <td>142</td>\n",
       "    </tr>\n",
       "    <tr>\n",
       "      <th>307546</th>\n",
       "      <td>Aldnoah.Zero 2nd Season</td>\n",
       "      <td>[Action, Mecha, Sci Fi, Conspiracy]</td>\n",
       "      <td>8</td>\n",
       "      <td>TV</td>\n",
       "      <td>84</td>\n",
       "      <td>142</td>\n",
       "    </tr>\n",
       "    <tr>\n",
       "      <th>307547</th>\n",
       "      <td>Aldnoah.Zero 2nd Season</td>\n",
       "      <td>[Action, Mecha, Sci Fi, Conspiracy]</td>\n",
       "      <td>8</td>\n",
       "      <td>TV</td>\n",
       "      <td>85</td>\n",
       "      <td>142</td>\n",
       "    </tr>\n",
       "  </tbody>\n",
       "</table>\n",
       "</div>"
      ],
      "text/plain": [
       "                          title                               genres  ratings  \\\n",
       "307542  Aldnoah.Zero 2nd Season  [Action, Mecha, Sci Fi, Conspiracy]       10   \n",
       "307544  Aldnoah.Zero 2nd Season  [Action, Mecha, Sci Fi, Conspiracy]        7   \n",
       "307545  Aldnoah.Zero 2nd Season  [Action, Mecha, Sci Fi, Conspiracy]        8   \n",
       "307546  Aldnoah.Zero 2nd Season  [Action, Mecha, Sci Fi, Conspiracy]        8   \n",
       "307547  Aldnoah.Zero 2nd Season  [Action, Mecha, Sci Fi, Conspiracy]        8   \n",
       "\n",
       "       type  User_ID  Title_ID  \n",
       "307542   TV        9       142  \n",
       "307544   TV       47       142  \n",
       "307545   TV       46       142  \n",
       "307546   TV       84       142  \n",
       "307547   TV       85       142  "
      ]
     },
     "execution_count": 78,
     "metadata": {},
     "output_type": "execute_result"
    }
   ],
   "source": [
    "df2[df2.Title_ID == 142].head()"
   ]
  },
  {
   "cell_type": "markdown",
   "metadata": {},
   "source": [
    "### Final DataFrame to CSV For Model"
   ]
  },
  {
   "cell_type": "code",
   "execution_count": 48,
   "metadata": {},
   "outputs": [],
   "source": [
    "df2.to_csv('anime_data.csv')"
   ]
  },
  {
   "cell_type": "code",
   "execution_count": null,
   "metadata": {},
   "outputs": [],
   "source": []
  }
 ],
 "metadata": {
  "kernelspec": {
   "display_name": "Python 3",
   "language": "python",
   "name": "python3"
  },
  "language_info": {
   "codemirror_mode": {
    "name": "ipython",
    "version": 3
   },
   "file_extension": ".py",
   "mimetype": "text/x-python",
   "name": "python",
   "nbconvert_exporter": "python",
   "pygments_lexer": "ipython3",
   "version": "3.7.3"
  }
 },
 "nbformat": 4,
 "nbformat_minor": 2
}
