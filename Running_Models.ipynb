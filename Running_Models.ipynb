{
 "cells": [
  {
   "cell_type": "code",
   "execution_count": 1,
   "metadata": {},
   "outputs": [],
   "source": [
    "import pandas as pd\n",
    "from surprise.model_selection import cross_validate\n",
    "from surprise.prediction_algorithms import SVD\n",
    "from surprise.prediction_algorithms import KNNWithMeans, KNNBasic, KNNBaseline\n",
    "from surprise.model_selection import GridSearchCV\n",
    "import numpy as np\n",
    "import time"
   ]
  },
  {
   "cell_type": "code",
   "execution_count": 228,
   "metadata": {},
   "outputs": [
    {
     "data": {
      "text/plain": [
       "(18986, 5)"
      ]
     },
     "execution_count": 228,
     "metadata": {},
     "output_type": "execute_result"
    }
   ],
   "source": [
    "df = pd.read_csv('anime_data.csv')\n",
    "df = df.drop('Unnamed: 0', axis = 1)\n",
    "df.shape"
   ]
  },
  {
   "cell_type": "code",
   "execution_count": 229,
   "metadata": {},
   "outputs": [],
   "source": [
    "pd.options.display.max_colwidth = 1000"
   ]
  },
  {
   "cell_type": "code",
   "execution_count": 230,
   "metadata": {},
   "outputs": [
    {
     "data": {
      "text/html": [
       "<div>\n",
       "<style scoped>\n",
       "    .dataframe tbody tr th:only-of-type {\n",
       "        vertical-align: middle;\n",
       "    }\n",
       "\n",
       "    .dataframe tbody tr th {\n",
       "        vertical-align: top;\n",
       "    }\n",
       "\n",
       "    .dataframe thead th {\n",
       "        text-align: right;\n",
       "    }\n",
       "</style>\n",
       "<table border=\"1\" class=\"dataframe\">\n",
       "  <thead>\n",
       "    <tr style=\"text-align: right;\">\n",
       "      <th></th>\n",
       "      <th>title</th>\n",
       "      <th>genres</th>\n",
       "      <th>ratings</th>\n",
       "      <th>User_ID</th>\n",
       "      <th>Title_ID</th>\n",
       "    </tr>\n",
       "  </thead>\n",
       "  <tbody>\n",
       "    <tr>\n",
       "      <th>0</th>\n",
       "      <td>Fullmetal Alchemist: Brotherhood</td>\n",
       "      <td>['Action', 'Adventure', 'Drama', 'Fantasy']</td>\n",
       "      <td>8</td>\n",
       "      <td>0</td>\n",
       "      <td>45</td>\n",
       "    </tr>\n",
       "    <tr>\n",
       "      <th>1</th>\n",
       "      <td>Fullmetal Alchemist: Brotherhood</td>\n",
       "      <td>['Action', 'Adventure', 'Drama', 'Fantasy']</td>\n",
       "      <td>0</td>\n",
       "      <td>1</td>\n",
       "      <td>45</td>\n",
       "    </tr>\n",
       "    <tr>\n",
       "      <th>2</th>\n",
       "      <td>Fullmetal Alchemist: Brotherhood</td>\n",
       "      <td>['Action', 'Adventure', 'Drama', 'Fantasy']</td>\n",
       "      <td>10</td>\n",
       "      <td>2</td>\n",
       "      <td>45</td>\n",
       "    </tr>\n",
       "    <tr>\n",
       "      <th>3</th>\n",
       "      <td>Fullmetal Alchemist: Brotherhood</td>\n",
       "      <td>['Action', 'Adventure', 'Drama', 'Fantasy']</td>\n",
       "      <td>10</td>\n",
       "      <td>3</td>\n",
       "      <td>45</td>\n",
       "    </tr>\n",
       "    <tr>\n",
       "      <th>4</th>\n",
       "      <td>Fullmetal Alchemist: Brotherhood</td>\n",
       "      <td>['Action', 'Adventure', 'Drama', 'Fantasy']</td>\n",
       "      <td>10</td>\n",
       "      <td>4</td>\n",
       "      <td>45</td>\n",
       "    </tr>\n",
       "  </tbody>\n",
       "</table>\n",
       "</div>"
      ],
      "text/plain": [
       "                              title  \\\n",
       "0  Fullmetal Alchemist: Brotherhood   \n",
       "1  Fullmetal Alchemist: Brotherhood   \n",
       "2  Fullmetal Alchemist: Brotherhood   \n",
       "3  Fullmetal Alchemist: Brotherhood   \n",
       "4  Fullmetal Alchemist: Brotherhood   \n",
       "\n",
       "                                        genres  ratings  User_ID  Title_ID  \n",
       "0  ['Action', 'Adventure', 'Drama', 'Fantasy']        8        0        45  \n",
       "1  ['Action', 'Adventure', 'Drama', 'Fantasy']        0        1        45  \n",
       "2  ['Action', 'Adventure', 'Drama', 'Fantasy']       10        2        45  \n",
       "3  ['Action', 'Adventure', 'Drama', 'Fantasy']       10        3        45  \n",
       "4  ['Action', 'Adventure', 'Drama', 'Fantasy']       10        4        45  "
      ]
     },
     "execution_count": 230,
     "metadata": {},
     "output_type": "execute_result"
    }
   ],
   "source": [
    "df.head()"
   ]
  },
  {
   "cell_type": "markdown",
   "metadata": {},
   "source": [
    "### Prep The DataFrame For the Model W/ User, Item, And Rating For Surprise"
   ]
  },
  {
   "cell_type": "code",
   "execution_count": 231,
   "metadata": {},
   "outputs": [],
   "source": [
    "rec_df = df.drop(columns = df[['title', 'genres']])\n",
    "rec_df = rec_df[['User_ID', 'Title_ID', 'ratings']]"
   ]
  },
  {
   "cell_type": "code",
   "execution_count": 254,
   "metadata": {},
   "outputs": [
    {
     "data": {
      "text/html": [
       "<div>\n",
       "<style scoped>\n",
       "    .dataframe tbody tr th:only-of-type {\n",
       "        vertical-align: middle;\n",
       "    }\n",
       "\n",
       "    .dataframe tbody tr th {\n",
       "        vertical-align: top;\n",
       "    }\n",
       "\n",
       "    .dataframe thead th {\n",
       "        text-align: right;\n",
       "    }\n",
       "</style>\n",
       "<table border=\"1\" class=\"dataframe\">\n",
       "  <thead>\n",
       "    <tr style=\"text-align: right;\">\n",
       "      <th></th>\n",
       "      <th>User_ID</th>\n",
       "      <th>Title_ID</th>\n",
       "      <th>ratings</th>\n",
       "    </tr>\n",
       "  </thead>\n",
       "  <tbody>\n",
       "    <tr>\n",
       "      <th>0</th>\n",
       "      <td>0</td>\n",
       "      <td>45</td>\n",
       "      <td>8</td>\n",
       "    </tr>\n",
       "    <tr>\n",
       "      <th>1</th>\n",
       "      <td>1</td>\n",
       "      <td>45</td>\n",
       "      <td>0</td>\n",
       "    </tr>\n",
       "    <tr>\n",
       "      <th>2</th>\n",
       "      <td>2</td>\n",
       "      <td>45</td>\n",
       "      <td>10</td>\n",
       "    </tr>\n",
       "    <tr>\n",
       "      <th>3</th>\n",
       "      <td>3</td>\n",
       "      <td>45</td>\n",
       "      <td>10</td>\n",
       "    </tr>\n",
       "    <tr>\n",
       "      <th>4</th>\n",
       "      <td>4</td>\n",
       "      <td>45</td>\n",
       "      <td>10</td>\n",
       "    </tr>\n",
       "  </tbody>\n",
       "</table>\n",
       "</div>"
      ],
      "text/plain": [
       "   User_ID  Title_ID  ratings\n",
       "0        0        45        8\n",
       "1        1        45        0\n",
       "2        2        45       10\n",
       "3        3        45       10\n",
       "4        4        45       10"
      ]
     },
     "execution_count": 254,
     "metadata": {},
     "output_type": "execute_result"
    }
   ],
   "source": [
    "rec_df.head()"
   ]
  },
  {
   "cell_type": "code",
   "execution_count": 233,
   "metadata": {},
   "outputs": [],
   "source": [
    "rec_match = df[['title', 'Title_ID', 'genres']].drop_duplicates('Title_ID')"
   ]
  },
  {
   "cell_type": "code",
   "execution_count": 234,
   "metadata": {},
   "outputs": [
    {
     "data": {
      "text/html": [
       "<div>\n",
       "<style scoped>\n",
       "    .dataframe tbody tr th:only-of-type {\n",
       "        vertical-align: middle;\n",
       "    }\n",
       "\n",
       "    .dataframe tbody tr th {\n",
       "        vertical-align: top;\n",
       "    }\n",
       "\n",
       "    .dataframe thead th {\n",
       "        text-align: right;\n",
       "    }\n",
       "</style>\n",
       "<table border=\"1\" class=\"dataframe\">\n",
       "  <thead>\n",
       "    <tr style=\"text-align: right;\">\n",
       "      <th></th>\n",
       "      <th>title</th>\n",
       "      <th>Title_ID</th>\n",
       "      <th>genres</th>\n",
       "    </tr>\n",
       "  </thead>\n",
       "  <tbody>\n",
       "    <tr>\n",
       "      <th>0</th>\n",
       "      <td>Fullmetal Alchemist: Brotherhood</td>\n",
       "      <td>45</td>\n",
       "      <td>['Action', 'Adventure', 'Drama', 'Fantasy']</td>\n",
       "    </tr>\n",
       "    <tr>\n",
       "      <th>154</th>\n",
       "      <td>your name.</td>\n",
       "      <td>170</td>\n",
       "      <td>['Drama', 'Romance', 'Body Swapping', 'Gender Bender']</td>\n",
       "    </tr>\n",
       "    <tr>\n",
       "      <th>273</th>\n",
       "      <td>Attack on Titan 3rd Season: Part II</td>\n",
       "      <td>6</td>\n",
       "      <td>['Action', 'Fantasy', 'Horror', 'Shounen']</td>\n",
       "    </tr>\n",
       "    <tr>\n",
       "      <th>419</th>\n",
       "      <td>A Silent Voice</td>\n",
       "      <td>0</td>\n",
       "      <td>['Drama', 'Shounen', 'Melancholy', 'School Life']</td>\n",
       "    </tr>\n",
       "    <tr>\n",
       "      <th>541</th>\n",
       "      <td>Haikyuu!! Karasuno High School vs Shiratorizawa Academy</td>\n",
       "      <td>59</td>\n",
       "      <td>['Shounen', 'Sports', 'Animeism', 'School Club']</td>\n",
       "    </tr>\n",
       "  </tbody>\n",
       "</table>\n",
       "</div>"
      ],
      "text/plain": [
       "                                                       title  Title_ID  \\\n",
       "0                           Fullmetal Alchemist: Brotherhood        45   \n",
       "154                                               your name.       170   \n",
       "273                      Attack on Titan 3rd Season: Part II         6   \n",
       "419                                           A Silent Voice         0   \n",
       "541  Haikyuu!! Karasuno High School vs Shiratorizawa Academy        59   \n",
       "\n",
       "                                                     genres  \n",
       "0               ['Action', 'Adventure', 'Drama', 'Fantasy']  \n",
       "154  ['Drama', 'Romance', 'Body Swapping', 'Gender Bender']  \n",
       "273              ['Action', 'Fantasy', 'Horror', 'Shounen']  \n",
       "419       ['Drama', 'Shounen', 'Melancholy', 'School Life']  \n",
       "541        ['Shounen', 'Sports', 'Animeism', 'School Club']  "
      ]
     },
     "execution_count": 234,
     "metadata": {},
     "output_type": "execute_result"
    }
   ],
   "source": [
    "rec_match.head()"
   ]
  },
  {
   "cell_type": "markdown",
   "metadata": {},
   "source": [
    "### Fitting the Models with our Data"
   ]
  },
  {
   "cell_type": "code",
   "execution_count": 236,
   "metadata": {},
   "outputs": [],
   "source": [
    "from surprise import Reader, Dataset\n",
    "from surprise.prediction_algorithms import knns\n",
    "from surprise.similarities import cosine, msd, pearson\n",
    "from surprise import accuracy\n",
    "\n",
    "reader = Reader(rating_scale = (1,10))\n",
    "data = Dataset.load_from_df(rec_df, reader)"
   ]
  },
  {
   "cell_type": "code",
   "execution_count": 237,
   "metadata": {},
   "outputs": [],
   "source": [
    "from surprise.model_selection import train_test_split\n",
    "from surprise import accuracy\n",
    "#split data for accurate prediction\n",
    "trainset, testset = train_test_split(data, test_size=0.25, random_state = 100)"
   ]
  },
  {
   "cell_type": "markdown",
   "metadata": {},
   "source": [
    "### SVD Recommender Model"
   ]
  },
  {
   "cell_type": "code",
   "execution_count": 238,
   "metadata": {},
   "outputs": [
    {
     "name": "stdout",
     "output_type": "stream",
     "text": [
      "RMSE: 2.3912\n"
     ]
    },
    {
     "data": {
      "text/plain": [
       "2.391215612394428"
      ]
     },
     "execution_count": 238,
     "metadata": {},
     "output_type": "execute_result"
    }
   ],
   "source": [
    "svd = SVD()\n",
    "svd.fit(trainset)\n",
    "preds = svd.test(testset)\n",
    "# Rating the Model\n",
    "accuracy.rmse(preds)"
   ]
  },
  {
   "cell_type": "markdown",
   "metadata": {},
   "source": [
    "### SVD W/ Tuned Hyperparameter"
   ]
  },
  {
   "cell_type": "code",
   "execution_count": 239,
   "metadata": {},
   "outputs": [
    {
     "name": "stdout",
     "output_type": "stream",
     "text": [
      "RMSE: 2.7018\n",
      "2.7018277358975653\n"
     ]
    }
   ],
   "source": [
    "svd = SVD(n_factors=100,n_epochs=10,lr_all=0.005,reg_all=0.4)\n",
    "svd.fit(trainset)\n",
    "predictions = svd.test(testset)\n",
    "print(accuracy.rmse(predictions))"
   ]
  },
  {
   "cell_type": "markdown",
   "metadata": {},
   "source": [
    "### KNN_BASIC Recommender Model"
   ]
  },
  {
   "cell_type": "code",
   "execution_count": 240,
   "metadata": {},
   "outputs": [
    {
     "name": "stdout",
     "output_type": "stream",
     "text": [
      "Computing the pearson similarity matrix...\n",
      "Done computing similarity matrix.\n",
      "RMSE: 2.3107\n",
      "2.3107489192622923\n"
     ]
    }
   ],
   "source": [
    "sim_pearson = {'name':'pearson','user_based':False}\n",
    "basic_pearson = knns.KNNBasic(sim_options=sim_pearson)\n",
    "basic_pearson.fit(trainset)\n",
    "predictions = basic_pearson.test(testset)\n",
    "print(accuracy.rmse(predictions))"
   ]
  },
  {
   "cell_type": "markdown",
   "metadata": {},
   "source": [
    "### KNN_MEAN Recommender Model"
   ]
  },
  {
   "cell_type": "code",
   "execution_count": 241,
   "metadata": {},
   "outputs": [
    {
     "name": "stdout",
     "output_type": "stream",
     "text": [
      "Computing the pearson similarity matrix...\n",
      "Done computing similarity matrix.\n",
      "RMSE: 2.2914\n",
      "2.2913520687309057\n"
     ]
    }
   ],
   "source": [
    "sim_pearson = {'name':'pearson','user_based':False}\n",
    "knn_means = knns.KNNWithMeans(sim_options=sim_pearson)\n",
    "knn_means.fit(trainset)\n",
    "predictions = knn_means.test(testset)\n",
    "print(accuracy.rmse(predictions))"
   ]
  },
  {
   "cell_type": "markdown",
   "metadata": {},
   "source": [
    "### KNN_BASELINE Recommender Model"
   ]
  },
  {
   "cell_type": "code",
   "execution_count": 242,
   "metadata": {},
   "outputs": [
    {
     "name": "stdout",
     "output_type": "stream",
     "text": [
      "Estimating biases using als...\n",
      "Computing the pearson similarity matrix...\n",
      "Done computing similarity matrix.\n",
      "RMSE: 2.2777\n",
      "2.2777293145036723\n"
     ]
    }
   ],
   "source": [
    "sim_pearson = {'name':'pearson','user_based':False}\n",
    "knn_baseline = knns.KNNBaseline(sim_options=sim_pearson)\n",
    "knn_baseline.fit(trainset)\n",
    "predictions = knn_baseline.test(testset)\n",
    "print(accuracy.rmse(predictions))"
   ]
  },
  {
   "cell_type": "markdown",
   "metadata": {},
   "source": [
    "## Function Model Predicting "
   ]
  },
  {
   "cell_type": "code",
   "execution_count": 243,
   "metadata": {},
   "outputs": [],
   "source": [
    "def recommend_anime(uid, iid, actual):\n",
    "    pred = svd.predict(uid, iid, actual, verbose =True)\n",
    "    match = rec_match.loc[rec_match['Title_ID'] == iid]\n",
    "    return match"
   ]
  },
  {
   "cell_type": "code",
   "execution_count": 244,
   "metadata": {
    "scrolled": true
   },
   "outputs": [
    {
     "name": "stdout",
     "output_type": "stream",
     "text": [
      "user: 45         item: 1          r_ui = 22.00   est = 4.87   {'was_impossible': False}\n"
     ]
    },
    {
     "data": {
      "text/html": [
       "<div>\n",
       "<style scoped>\n",
       "    .dataframe tbody tr th:only-of-type {\n",
       "        vertical-align: middle;\n",
       "    }\n",
       "\n",
       "    .dataframe tbody tr th {\n",
       "        vertical-align: top;\n",
       "    }\n",
       "\n",
       "    .dataframe thead th {\n",
       "        text-align: right;\n",
       "    }\n",
       "</style>\n",
       "<table border=\"1\" class=\"dataframe\">\n",
       "  <thead>\n",
       "    <tr style=\"text-align: right;\">\n",
       "      <th></th>\n",
       "      <th>title</th>\n",
       "      <th>Title_ID</th>\n",
       "      <th>genres</th>\n",
       "    </tr>\n",
       "  </thead>\n",
       "  <tbody>\n",
       "    <tr>\n",
       "      <th>18103</th>\n",
       "      <td>Air Gear: Kuro no Hane to Nemuri no Mori -Break on the Sky-</td>\n",
       "      <td>1</td>\n",
       "      <td>['Ecchi', 'Shounen', 'Based on a Manga', 'Ecchi', 'Shounen']</td>\n",
       "    </tr>\n",
       "  </tbody>\n",
       "</table>\n",
       "</div>"
      ],
      "text/plain": [
       "                                                             title  Title_ID  \\\n",
       "18103  Air Gear: Kuro no Hane to Nemuri no Mori -Break on the Sky-         1   \n",
       "\n",
       "                                                             genres  \n",
       "18103  ['Ecchi', 'Shounen', 'Based on a Manga', 'Ecchi', 'Shounen']  "
      ]
     },
     "execution_count": 244,
     "metadata": {},
     "output_type": "execute_result"
    }
   ],
   "source": [
    "recommend_anime(45, 1, 22)"
   ]
  },
  {
   "cell_type": "code",
   "execution_count": 250,
   "metadata": {},
   "outputs": [],
   "source": [
    "def get_recommendations(user_ratings, num_recs, genre):\n",
    "    new_ratings_df = rec_match.append(user_ratings,ignore_index=True)\n",
    "    new_ratings_df = new_ratings_df[new_ratings_df.genres.str.contains(genre, na=False)]\n",
    "    new_ratings_df = new_ratings_df.drop(columns=['title', 'genres'])\n",
    "\n",
    "    #load in new df\n",
    "    new_data = Dataset.load_from_df(new_ratings_df,reader)\n",
    "    #create new svd object\n",
    "    svd_new = SVD()\n",
    "    #re fit the model\n",
    "    svd_new.fit(new_data.build_full_trainset())\n",
    "\n",
    "    # make predictions for the user\n",
    "    list_of_animes = []\n",
    "    for a_id in new_ratings_df['Title_ID'].unique():\n",
    "        list_of_animes.append((a_id, svd_new.predict(new_ratings_df['User_ID'].max(),a_id)[3]))\n",
    "\n",
    "    # order the predictions from highest to lowest rated\n",
    "    ranked_animes = sorted(list_of_animes, key=lambda x:x[1], reverse=True)\n",
    "\n",
    "    rec_num = 1\n",
    "    for i in ranked_animes[:num_recs]:\n",
    "        recommended = rec_match[rec_match['Title_ID'] == i[0]]\n",
    "        print('Recommendation number:', rec_num)\n",
    "        print('Anime: ' + recommended.values[0][0])\n",
    "        print('Genres: ' + (recommended.values[0][2]))\n",
    "        print('\\n')\n",
    "        rec_num +=1\n",
    "    print(\"Thank You For Using John And Paul's Anime Recommender\")"
   ]
  },
  {
   "cell_type": "code",
   "execution_count": 251,
   "metadata": {},
   "outputs": [],
   "source": [
    "def anime_rater(df, num):\n",
    "    userID = rec_df.User_ID.max()+1\n",
    "    num_recs = input('How many recommendations would you like? Please enter a number from 1 to 10:\\n')\n",
    "    \n",
    "    while int(num_recs) > 10:\n",
    "        num_recs = input('You entered a number over 5. Please enter a number from 1 to 5 to continue. \\n')\n",
    "    genre = input('Please enter your favorite genre. ')\n",
    "    rating_list = []\n",
    "    \n",
    "    while num > 0:\n",
    "        anime = df[df['genres'].str.contains(genre)].sample(1)\n",
    "        print('\\nPlease rate the following {} Animes. \\n'.format(num))\n",
    "        print('Anime: ' + str(anime.values[0][0]))\n",
    "        print('Genre: ' + str(anime.values[0][1]))\n",
    "        rating = input('How do you rate this Anime on a scale of 1-5, press n if you are never watched this anime. :\\n')\n",
    "            \n",
    "        if rating == 'n':\n",
    "            continue\n",
    "        \n",
    "        if int(rating) > 5:\n",
    "            print('Rating must be below 5!')\n",
    "            continue\n",
    "            \n",
    "        if int(rating) < 1:\n",
    "            print('Rating must be above 0!')\n",
    "            continue\n",
    "        \n",
    "        else:\n",
    "            rating_one_anime = {'User_ID':userID,'Title_ID': anime['Title_ID'].values[0],'rating': rating}\n",
    "            rating_list.append(rating_one_anime) \n",
    "            num -= 1\n",
    "        time.sleep(.5)\n",
    "    print('\\n'+'-----Making Recommendations-----'+'\\n')\n",
    "    time.sleep(1)\n",
    "    get_recommendations(rating_list, int(num_recs), genre)\n",
    "    \n",
    "    "
   ]
  },
  {
   "cell_type": "code",
   "execution_count": 253,
   "metadata": {},
   "outputs": [
    {
     "name": "stdout",
     "output_type": "stream",
     "text": [
      "How many recommendations would you like? Please enter a number from 1 to 10:\n",
      "3\n",
      "Please enter your favorite genre. Action\n",
      "\n",
      "Please rate the following 5 Animes. \n",
      "\n",
      "Anime: Parasyte -the maxim-\n",
      "Genre: ['Action', 'Drama', 'Horror', 'Sci Fi']\n",
      "How do you rate this Anime on a scale of 1-5, press n if you are never watched this anime. :\n",
      "3\n",
      "\n",
      "Please rate the following 4 Animes. \n",
      "\n",
      "Anime: City Hunter 3\n",
      "Genre: ['Action', 'Shounen', 'Based on a Manga', 'Action', 'Shounen']\n",
      "How do you rate this Anime on a scale of 1-5, press n if you are never watched this anime. :\n",
      "4\n",
      "\n",
      "Please rate the following 3 Animes. \n",
      "\n",
      "Anime: No Game No Life: Zero\n",
      "Genre: ['Action', 'Adventure', 'Drama', 'Fantasy']\n",
      "How do you rate this Anime on a scale of 1-5, press n if you are never watched this anime. :\n",
      "2\n",
      "\n",
      "Please rate the following 2 Animes. \n",
      "\n",
      "Anime: Gintama: Porori-hen\n",
      "Genre: ['Action', 'Comedy', 'Drama', 'Sci Fi']\n",
      "How do you rate this Anime on a scale of 1-5, press n if you are never watched this anime. :\n",
      "3\n",
      "\n",
      "Please rate the following 1 Animes. \n",
      "\n",
      "Anime: That Time I Got Reincarnated as a Slime\n",
      "Genre: ['Action', 'Adventure', 'Comedy', 'Fantasy']\n",
      "How do you rate this Anime on a scale of 1-5, press n if you are never watched this anime. :\n",
      "4\n",
      "\n",
      "-----Making Recommendations-----\n",
      "\n",
      "Recommendation number: 1\n",
      "Anime: Fullmetal Alchemist: Brotherhood\n",
      "Genres: ['Action', 'Adventure', 'Drama', 'Fantasy']\n",
      "\n",
      "\n",
      "Recommendation number: 2\n",
      "Anime: Attack on Titan 3rd Season: Part II\n",
      "Genres: ['Action', 'Fantasy', 'Horror', 'Shounen']\n",
      "\n",
      "\n",
      "Recommendation number: 3\n",
      "Anime: Demon Slayer: Kimetsu no Yaiba\n",
      "Genres: ['Action', 'Adventure', 'Comedy', 'Drama']\n",
      "\n",
      "\n",
      "Thank You For Using John And Paul's Anime Recommender\n"
     ]
    }
   ],
   "source": [
    "user_ratings = anime_rater(df,5)"
   ]
  },
  {
   "cell_type": "code",
   "execution_count": null,
   "metadata": {},
   "outputs": [],
   "source": []
  }
 ],
 "metadata": {
  "kernelspec": {
   "display_name": "Python 3",
   "language": "python",
   "name": "python3"
  },
  "language_info": {
   "codemirror_mode": {
    "name": "ipython",
    "version": 3
   },
   "file_extension": ".py",
   "mimetype": "text/x-python",
   "name": "python",
   "nbconvert_exporter": "python",
   "pygments_lexer": "ipython3",
   "version": "3.7.3"
  }
 },
 "nbformat": 4,
 "nbformat_minor": 2
}
